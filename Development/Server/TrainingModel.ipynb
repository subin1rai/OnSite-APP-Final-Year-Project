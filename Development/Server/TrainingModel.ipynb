{
 "cells": [
  {
   "cell_type": "code",
   "execution_count": 44,
   "metadata": {},
   "outputs": [],
   "source": [
    "import pandas as pd\n",
    "import numpy as np\n",
    "import re\n",
    "from sklearn.model_selection import train_test_split\n",
    "from sklearn.ensemble import RandomForestRegressor\n",
    "from sklearn.metrics import mean_absolute_error, mean_squared_error, r2_score\n"
   ]
  },
  {
   "cell_type": "code",
   "execution_count": 45,
   "metadata": {},
   "outputs": [],
   "source": [
    "df = pd.read_csv('dataset.csv')"
   ]
  },
  {
   "cell_type": "code",
   "execution_count": 46,
   "metadata": {},
   "outputs": [],
   "source": [
    "df = df.drop(columns=[\"AMENITIES\", \"BUILDUP AREA\"], errors=\"ignore\")\n",
    "# Remove\"House for Rent\" from title\n",
    "df = df[~df[\"TITLE\"].str.contains(\"House for Rent\", case=False, na=False)]"
   ]
  },
  {
   "cell_type": "code",
   "execution_count": 47,
   "metadata": {},
   "outputs": [],
   "source": [
    "\n",
    "def convert_price(price):\n",
    "    price = str(price).replace(\"Rs.\", \"\").replace(\",\", \"\").strip()\n",
    "    if \"Cr\" in price:\n",
    "        return float(price.replace(\"Cr\", \"\").strip()) * 10_000_000\n",
    "    elif \"Lakh\" in price:\n",
    "        return float(price.replace(\"Lakh\", \"\").strip()) * 100_000\n",
    "    else:\n",
    "        return float(price) if price.isdigit() else np.nan\n",
    "\n",
    "def clean_land_area(area):\n",
    "    area = str(area).strip().lower()\n",
    "    match = re.search(r\"(\\d+\\.\\d+|\\d+)\", area)\n",
    "    number = float(match.group(1)) if match else np.nan\n",
    "    \n",
    "    if \"aana\" in area:\n",
    "        return number * 342.25  #aana to square feet\n",
    "    elif \"kattha\" in area:\n",
    "        return number * 3388.98  # kattha to square feet\n",
    "    elif \"sq. mtr\" in area:\n",
    "        return number * 10.7639  # square meters to square feet\n",
    "    elif \"sq. ft\" in area:\n",
    "        return number\n",
    "    return np.nan\n",
    "\n",
    "def convert_road_access(road):\n",
    "    match = re.search(r\"([\\d.]+)\\s*Feet\", str(road))\n",
    "    return float(match.group(1)) if match else np.nan\n",
    "\n",
    "def extract_parking(parking):\n",
    "    cars = re.search(r\"(\\d+)\\s*CaRs?\", str(parking))\n",
    "    bikes = re.search(r\"(\\d+)\\s*Bikes?\", str(parking))\n",
    "    return int(cars.group(1)) if cars else 0, int(bikes.group(1)) if bikes else 0\n"
   ]
  },
  {
   "cell_type": "code",
   "execution_count": 48,
   "metadata": {},
   "outputs": [],
   "source": [
    "# Apply transformations\n",
    "df[\"PRICE\"] = df[\"PRICE\"].apply(convert_price)\n",
    "df[\"LAND AREA\"] = df[\"LAND AREA\"].apply(clean_land_area)\n",
    "df[\"ROAD ACCESS\"] = df[\"ROAD ACCESS\"].apply(convert_road_access)\n",
    "df[\"CARS\"], df[\"BIKES\"] = zip(*df[\"PARKING\"].apply(extract_parking))\n",
    "\n",
    "# Drop unnecessary columns\n",
    "df = df.drop(columns=[\"TITLE\", \"PARKING\", \"BUILT YEAR\"], errors=\"ignore\")\n",
    "\n",
    "# one-hot encoding\n",
    "df = pd.get_dummies(df, columns=[\"LOCATION\", \"FACING\"], drop_first=True)\n",
    "\n",
    "df = df.fillna(df.median())"
   ]
  },
  {
   "cell_type": "code",
   "execution_count": 49,
   "metadata": {},
   "outputs": [],
   "source": [
    "X = df.drop(columns=[\"PRICE\"])\n",
    "y = df[\"PRICE\"]\n",
    "\n",
    "X_train, X_test, y_train, y_test = train_test_split(X, y, test_size=0.2, random_state=42)\n"
   ]
  },
  {
   "cell_type": "code",
   "execution_count": 50,
   "metadata": {},
   "outputs": [],
   "source": [
    "rf_model = RandomForestRegressor(n_estimators=100, random_state=42)\n",
    "rf_model.fit(X_train, y_train)\n",
    "\n",
    "y_pred = rf_model.predict(X_test)"
   ]
  },
  {
   "cell_type": "code",
   "execution_count": 51,
   "metadata": {},
   "outputs": [
    {
     "name": "stdout",
     "output_type": "stream",
     "text": [
      "Mean Absolute Error (MAE): 11501175.11771854\n",
      "Root Mean Squared Error (RMSE): 21589350.069620233\n",
      "R² Score: 0.28689721756941855\n"
     ]
    }
   ],
   "source": [
    "# Evaluate model performance\n",
    "mae = mean_absolute_error(y_test, y_pred)\n",
    "mse = mean_squared_error(y_test, y_pred)\n",
    "rmse = np.sqrt(mse)\n",
    "r2 = r2_score(y_test, y_pred)\n",
    "\n",
    "print(f\"Mean Absolute Error (MAE): {mae}\")\n",
    "print(f\"Root Mean Squared Error (RMSE): {rmse}\")\n",
    "print(f\"R² Score: {r2}\")\n"
   ]
  },
  {
   "cell_type": "code",
   "execution_count": null,
   "metadata": {},
   "outputs": [
    {
     "name": "stdout",
     "output_type": "stream",
     "text": [
      "      Actual Price  Predicted Price\n",
      "412     45000000.0       43097000.0\n",
      "2352    21500000.0       26489000.0\n",
      "3292    18500000.0       22572000.0\n",
      "2754    32000000.0       39664500.0\n",
      "339     46500000.0       38760000.0\n"
     ]
    }
   ],
   "source": [
    "predictions_df = pd.DataFrame({\"Actual Price\": y_test, \"Predicted Price\": y_pred})\n",
    "# Display the DataFrame\n",
    "print(predictions_df.head())"
   ]
  }
 ],
 "metadata": {
  "kernelspec": {
   "display_name": "Python 3",
   "language": "python",
   "name": "python3"
  },
  "language_info": {
   "codemirror_mode": {
    "name": "ipython",
    "version": 3
   },
   "file_extension": ".py",
   "mimetype": "text/x-python",
   "name": "python",
   "nbconvert_exporter": "python",
   "pygments_lexer": "ipython3",
   "version": "3.13.2"
  }
 },
 "nbformat": 4,
 "nbformat_minor": 2
}
